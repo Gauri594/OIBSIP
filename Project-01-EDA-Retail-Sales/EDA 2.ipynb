{
 "cells": [
  {
   "cell_type": "markdown",
   "id": "8fa9ecca-3b1f-4ad8-a58a-c3ec74850dea",
   "metadata": {},
   "source": [
    " Project Title: Exploratory Data Analysis (EDA) on Retail Sales Data\n",
    "  (Dataset 2)"
   ]
  },
  {
   "cell_type": "code",
   "execution_count": null,
   "id": "20f9b147-845c-4a3b-8031-b36f37c3108b",
   "metadata": {},
   "outputs": [],
   "source": [
    "import numpy as np\n",
    "import pandas as pd\n",
    "import matplotlib.pyplot as plt\n",
    "import seaborn as sns\n",
    "\n",
    "\n",
    "df2= pd.read_csv(\"menu.csv\")\n",
    "\n",
    "print(df2.info())\n",
    "print(df2.describe())\n",
    "\n",
    "plt.figure(figsize=(10,6))\n",
    "sns.boxplot(data=df2, x='Category', y='Calories')\n",
    "plt.title('Calories Distribution by Category')\n",
    "plt.xticks(rotation=45)\n",
    "plt.show()\n",
    "\n",
    "plt.figure(figsize=(10,6))\n",
    "numeric_cols = df2.select_dtypes(include='number')\n",
    "sns.heatmap(numeric_cols.corr(), annot=True, cmap='coolwarm')\n",
    "plt.title('Nutritional Correlation Heatmap')\n",
    "plt.show()\n",
    "\n",
    "plt.figure(figsize=(8,6))\n",
    "sns.scatterplot(data=df2, x='Total Fat', y='Sugars', hue='Category')\n",
    "plt.title('Fat vs Sugar by Category')\n",
    "plt.show()"
   ]
  },
  {
   "cell_type": "markdown",
   "id": "4a3b716b-0e28-451c-aedd-aee20fdd9ab3",
   "metadata": {},
   "source": [
    "6. Recommendations: Provide actionable recommendations based on the EDA.\n",
    "\n",
    "   - Desserts and Breakfast items tend to have high sugar and fat\n",
    "   - Some salads and beverages are surprisingly high in calories\n",
    "   - Strong correlation between Calories and Total Fat\n",
    "   Items like shakes and burgers dominate the top calorie list\n",
    "\n"
   ]
  },
  {
   "cell_type": "code",
   "execution_count": null,
   "id": "3b3092cd-2f7a-4195-966f-8d4d5555a845",
   "metadata": {},
   "outputs": [],
   "source": []
  }
 ],
 "metadata": {
  "kernelspec": {
   "display_name": "Python 3 (ipykernel)",
   "language": "python",
   "name": "python3"
  },
  "language_info": {
   "codemirror_mode": {
    "name": "ipython",
    "version": 3
   },
   "file_extension": ".py",
   "mimetype": "text/x-python",
   "name": "python",
   "nbconvert_exporter": "python",
   "pygments_lexer": "ipython3",
   "version": "3.12.7"
  }
 },
 "nbformat": 4,
 "nbformat_minor": 5
}
